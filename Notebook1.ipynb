{
 "cells": [
  {
   "cell_type": "code",
   "execution_count": 8,
   "metadata": {
    "collapsed": false
   },
   "outputs": [
    {
     "name": "stdout",
     "output_type": "stream",
     "text": [
      "   clients_id country_ISO  country_phonecode country_country booking_date  \\\n",
      "0       79223         GBR                 44  United-Kingdom   2015-08-15   \n",
      "1       92805         GBR                 44  United-Kingdom   2017-03-28   \n",
      "2       49169         IRL                353         Ireland   2015-10-26   \n",
      "3       19656         BEL                 32         Belgium   2013-09-06   \n",
      "4      146098         GBR                 44  United-Kingdom   2017-05-18   \n",
      "\n",
      "  booking_hour  bookings_id book_transfers_whichway book_transfers_flight_nr  \\\n",
      "0     11:40:11       138189                 arrival                    ZB580   \n",
      "1     10:14:56       264951               departure                  EZY7364   \n",
      "2     11:19:43       154333                 arrival                   FR7032   \n",
      "3     08:51:58        37152               departure                   FR6313   \n",
      "4     20:09:44       277244                 arrival                  EZY7193   \n",
      "\n",
      "  book_transfers_flight_day      ...       feedback_clean_in  \\\n",
      "0                2015-08-25      ...                       5   \n",
      "1                2017-05-27      ...                       5   \n",
      "2                2015-10-27      ...                       5   \n",
      "3                2013-09-14      ...                       5   \n",
      "4                2017-05-29      ...                       5   \n",
      "\n",
      "   feedback_clean_out  feedback_punctual_departure  feedback_curteous_arrival  \\\n",
      "0                   5                            5                          5   \n",
      "1                   5                            5                          2   \n",
      "2                   5                            5                          5   \n",
      "3                   5                            5                          5   \n",
      "4                   5                            5                          5   \n",
      "\n",
      "   feedback_curteous_departure  feedback_website travel_km travel_time  \\\n",
      "0                            5                 5        39          45   \n",
      "1                            5                 5        39          45   \n",
      "2                            5                 5        75          60   \n",
      "3                            3                 5        39          45   \n",
      "4                            5                 5        39          45   \n",
      "\n",
      "   pickup_place  dropoff_place  \n",
      "0  FARO-AIRPORT      ALBUFEIRA  \n",
      "1     ALBUFEIRA   FARO-AIRPORT  \n",
      "2  FARO-AIRPORT          ALVOR  \n",
      "3     ALBUFEIRA   FARO-AIRPORT  \n",
      "4  FARO-AIRPORT      ALBUFEIRA  \n",
      "\n",
      "[5 rows x 38 columns]\n"
     ]
    }
   ],
   "source": [
    "import pandas as pd\n",
    "\n",
    "df = pd.read_csv('Transfers_data.csv')\n",
    "\n",
    "print(df.head())"
   ]
  },
  {
   "cell_type": "code",
   "execution_count": 12,
   "metadata": {
    "collapsed": false
   },
   "outputs": [
    {
     "name": "stdout",
     "output_type": "stream",
     "text": [
      "50000\n",
      "50000\n"
     ]
    }
   ],
   "source": [
    "\"\"\" Pergunta b) (i)\"\"\"\n",
    "\n",
    "print(df.shape[0])\n",
    "\n",
    "print(len(df.index))"
   ]
  },
  {
   "cell_type": "code",
   "execution_count": 15,
   "metadata": {
    "collapsed": false
   },
   "outputs": [
    {
     "name": "stdout",
     "output_type": "stream",
     "text": [
      "                  count\n",
      "booking_datetime       \n",
      "2012               2451\n",
      "2013               5369\n",
      "2014               6774\n",
      "2015               9692\n",
      "2016              13231\n",
      "2017              12483\n"
     ]
    }
   ],
   "source": [
    "\"\"\" Pergunta b) (ii) \"\"\"\n",
    "\n",
    "df['booking_datetime'] = pd.to_datetime(df['booking_date'])\n",
    "\n",
    "print(df['booking_datetime'].groupby(df['booking_datetime'].dt.year).agg({'count'}))\n",
    "\n",
    "#print(list(df['booking_date'].groupby(df['booking_datetime'].dt.year))[0][1])"
   ]
  },
  {
   "cell_type": "code",
   "execution_count": 16,
   "metadata": {
    "collapsed": false
   },
   "outputs": [
    {
     "name": "stdout",
     "output_type": "stream",
     "text": [
      "                  count\n",
      "booking_datetime       \n",
      "1                  2227\n",
      "2                  2342\n",
      "3                  3773\n",
      "4                  5248\n",
      "5                  6664\n",
      "6                  6647\n",
      "7                  7052\n",
      "8                  6557\n",
      "9                  4944\n",
      "10                 2604\n",
      "11                  997\n",
      "12                  945\n"
     ]
    }
   ],
   "source": [
    "\"\"\" Pergunta b) (iii) \"\"\"\n",
    "\n",
    "print(df['booking_datetime'].groupby(df['booking_datetime'].dt.month).agg({'count'}))"
   ]
  },
  {
   "cell_type": "code",
   "execution_count": 17,
   "metadata": {
    "collapsed": false
   },
   "outputs": [
    {
     "name": "stdout",
     "output_type": "stream",
     "text": [
      "            count\n",
      "clients_id       \n",
      "58              1\n",
      "61              5\n",
      "62              6\n",
      "70             16\n",
      "71              7\n",
      "78              7\n",
      "81             13\n",
      "91              2\n",
      "95              6\n",
      "99              4\n",
      "107             2\n",
      "115             8\n",
      "116             3\n",
      "117             1\n",
      "119             7\n",
      "122             2\n",
      "129             2\n",
      "134             4\n",
      "135             1\n",
      "136             5\n",
      "137             2\n",
      "138             1\n",
      "139             4\n",
      "140             3\n",
      "142             7\n",
      "143             4\n",
      "144             2\n",
      "145             1\n",
      "146             1\n",
      "148             4\n",
      "...           ...\n",
      "162872          1\n",
      "162881          2\n",
      "162889          1\n",
      "162902          2\n",
      "162905          1\n",
      "162914          1\n",
      "162923          1\n",
      "162926          2\n",
      "162946          1\n",
      "162952          1\n",
      "162972          1\n",
      "162981          1\n",
      "162983          1\n",
      "162987          1\n",
      "163002          1\n",
      "163005          2\n",
      "163009          1\n",
      "163016          1\n",
      "163031          2\n",
      "163038          1\n",
      "163045          2\n",
      "163106          1\n",
      "163154          1\n",
      "163161          1\n",
      "163175          2\n",
      "163178          1\n",
      "163192          1\n",
      "163220          1\n",
      "163302          1\n",
      "163412          1\n",
      "\n",
      "[28487 rows x 1 columns]\n"
     ]
    }
   ],
   "source": [
    "\"\"\" Pergunta b) (iv) \"\"\"\n",
    "\n",
    "print(df['clients_id'].groupby(df['clients_id']).agg({'count'}))"
   ]
  },
  {
   "cell_type": "code",
   "execution_count": 18,
   "metadata": {
    "collapsed": false
   },
   "outputs": [
    {
     "name": "stdout",
     "output_type": "stream",
     "text": [
      "                              count\n",
      "country_country                    \n",
      "Australia                        36\n",
      "Austria                          26\n",
      "Belgium                         179\n",
      "Bulgaria                          1\n",
      "China-(People's-Rep.)             3\n",
      "Cyprus                            1\n",
      "Czech-Republic                    6\n",
      "Denmark                          62\n",
      "Estonia                          10\n",
      "Finland                          43\n",
      "France                          152\n",
      "Germany                         271\n",
      "Hong-Kong-                        4\n",
      "Hungary                          11\n",
      "Iceland                           4\n",
      "Ireland                       12874\n",
      "Israel                            1\n",
      "Italy                            17\n",
      "Japan                             2\n",
      "Latvia                            4\n",
      "Lebanon                           1\n",
      "Lithuania                         5\n",
      "Luxembourg                       35\n",
      "Mexico-                           1\n",
      "Netherlands                     435\n",
      "New-Zealand                       8\n",
      "North-America-(USA-&-Canada)    238\n",
      "Norway                          100\n",
      "Peru                              1\n",
      "Poland                           24\n",
      "Portugal                        606\n",
      "Rep.-of-Macedonia-                2\n",
      "Romania                          11\n",
      "Russia                           13\n",
      "Serbia-                           1\n",
      "Singapore                         2\n",
      "Slovenia                          1\n",
      "South-Africa                      2\n",
      "Spain                            22\n",
      "Sweden                          100\n",
      "Switzerland                      67\n",
      "Thailand                          3\n",
      "Turkey                            1\n",
      "United-Arab-Emirates              5\n",
      "United-Kingdom                34507\n",
      "Unknown                         102\n"
     ]
    }
   ],
   "source": [
    "\"\"\" Pergunta b) (v) \"\"\"\n",
    "\n",
    "print(df['country_country'].groupby(df['country_country']).agg({'count'}))"
   ]
  },
  {
   "cell_type": "code",
   "execution_count": 19,
   "metadata": {
    "collapsed": false
   },
   "outputs": [
    {
     "name": "stdout",
     "output_type": "stream",
     "text": [
      "1.7551865763330643\n"
     ]
    }
   ],
   "source": [
    "\"\"\" Pergunta b) (vi) \"\"\"\n",
    "\n",
    "print(len(df)/len(df['clients_id'].groupby(df['clients_id'])))"
   ]
  },
  {
   "cell_type": "code",
   "execution_count": 22,
   "metadata": {
    "collapsed": false
   },
   "outputs": [
    {
     "name": "stdout",
     "output_type": "stream",
     "text": [
      "clients_id  country_country             \n",
      "58          United-Kingdom                   1\n",
      "61          United-Kingdom                   5\n",
      "62          United-Kingdom                   6\n",
      "70          United-Kingdom                  16\n",
      "71          Ireland                          7\n",
      "78          United-Kingdom                   7\n",
      "81          United-Kingdom                  13\n",
      "91          United-Kingdom                   2\n",
      "95          United-Kingdom                   6\n",
      "99          United-Kingdom                   4\n",
      "107         United-Kingdom                   2\n",
      "115         United-Kingdom                   8\n",
      "116         United-Kingdom                   3\n",
      "117         United-Kingdom                   1\n",
      "119         United-Kingdom                   7\n",
      "122         United-Kingdom                   2\n",
      "129         United-Kingdom                   2\n",
      "134         United-Kingdom                   4\n",
      "135         United-Kingdom                   1\n",
      "136         Ireland                          5\n",
      "137         United-Kingdom                   2\n",
      "138         United-Kingdom                   1\n",
      "139         Ireland                          4\n",
      "140         United-Kingdom                   3\n",
      "142         United-Kingdom                   7\n",
      "143         United-Kingdom                   4\n",
      "144         United-Kingdom                   2\n",
      "145         United-Kingdom                   1\n",
      "146         United-Kingdom                   1\n",
      "148         United-Kingdom                   4\n",
      "                                            ..\n",
      "162872      United-Kingdom                   1\n",
      "162881      United-Kingdom                   2\n",
      "162889      Ireland                          1\n",
      "162902      United-Kingdom                   2\n",
      "162905      United-Kingdom                   1\n",
      "162914      Ireland                          1\n",
      "162923      United-Kingdom                   1\n",
      "162926      United-Kingdom                   2\n",
      "162946      Switzerland                      1\n",
      "162952      United-Kingdom                   1\n",
      "162972      United-Kingdom                   1\n",
      "162981      Germany                          1\n",
      "162983      Ireland                          1\n",
      "162987      United-Kingdom                   1\n",
      "163002      Ireland                          1\n",
      "163005      Belgium                          2\n",
      "163009      United-Kingdom                   1\n",
      "163016      Ireland                          1\n",
      "163031      United-Kingdom                   2\n",
      "163038      Netherlands                      1\n",
      "163045      Ireland                          2\n",
      "163106      United-Kingdom                   1\n",
      "163154      United-Kingdom                   1\n",
      "163161      North-America-(USA-&-Canada)     1\n",
      "163175      United-Kingdom                   2\n",
      "163178      United-Kingdom                   1\n",
      "163192      Finland                          1\n",
      "163220      Ireland                          1\n",
      "163302      United-Kingdom                   1\n",
      "163412      United-Kingdom                   1\n",
      "dtype: int64\n"
     ]
    }
   ],
   "source": [
    "\"\"\" Pergunta b) (vii) \"\"\"\n",
    "# TODO: Pergunta adicional: gráfico de distribuição da quantidade de serviços por país\n",
    "# print(df['country_country'].groupby(df['country_country']).agg({'count'})/len(df))\n",
    "\n",
    "print(df.groupby(['clients_id', 'country_country'])['country_country'].size())\n",
    "\n",
    "# print(df.groupby(['clients_id', 'country_country']).size().groupby('country_country').head())\n",
    "# print(df.groupby('country_country')['clients_id', 'country_country'].count())"
   ]
  },
  {
   "cell_type": "code",
   "execution_count": 23,
   "metadata": {
    "collapsed": false
   },
   "outputs": [
    {
     "data": {
      "text/plain": [
       "' Pergunta b) (viii) '"
      ]
     },
     "execution_count": 23,
     "metadata": {},
     "output_type": "execute_result"
    }
   ],
   "source": [
    "\"\"\" Pergunta b) (viii) \"\"\"\n",
    "\n",
    "# TODO: Limpar os -1 e 0s\n",
    "# df['book_transfers_total'] = df['book_transfers_adults'] + df['book_transfers_children'] + df['book_transfers_babies']\n",
    "# print(df['book_transfers_total'].groupby(df['book_transfers_total']).agg({'count'})/len(df))"
   ]
  }
 ],
 "metadata": {
  "kernelspec": {
   "display_name": "Python 3.5",
   "language": "python",
   "name": "python3.5"
  },
  "language_info": {
   "codemirror_mode": {
    "name": "ipython",
    "version": 3
   },
   "file_extension": ".py",
   "mimetype": "text/x-python",
   "name": "python",
   "nbconvert_exporter": "python",
   "pygments_lexer": "ipython3",
   "version": "3.5.2"
  }
 },
 "nbformat": 4,
 "nbformat_minor": 0
}
